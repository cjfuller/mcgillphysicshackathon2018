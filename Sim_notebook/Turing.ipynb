{
  "nbformat": 4,
  "nbformat_minor": 0,
  "metadata": {
    "colab": {
      "name": "Turing.ipynb",
      "version": "0.3.2",
      "provenance": [],
      "collapsed_sections": []
    },
    "kernelspec": {
      "name": "python3",
      "display_name": "Python 3"
    }
  },
  "cells": [
    {
      "metadata": {
        "id": "DEe4FDqchoq6",
        "colab_type": "code",
        "colab": {}
      },
      "cell_type": "code",
      "source": [
        "import numpy as np\n",
        "import matplotlib.pyplot as plt\n",
        "import matplotlib.colors as col\n",
        "import pandas\n",
        "import tensorflow as tf"
      ],
      "execution_count": 0,
      "outputs": []
    },
    {
      "metadata": {
        "id": "SkhGIxAy3iz_",
        "colab_type": "text"
      },
      "cell_type": "markdown",
      "source": [
        "Adapted from iPython Cookbook [Chapter 12.4](https://ipython-books.github.io/124-simulating-a-partial-differential-equation-reaction-diffusion-systems-and-turing-patterns/)\n",
        "\n"
      ]
    },
    {
      "metadata": {
        "id": "xFOiWI8Ohwsp",
        "colab_type": "code",
        "colab": {}
      },
      "cell_type": "code",
      "source": [
        "# Define parameters\n",
        "Du = 1e-4   # diffusion coefficient of activator\n",
        "Dv = 5e-3   # diffusion coefficient of inhibitor\n",
        "fu = 1      # production rate of activator\n",
        "fv = 3      # production rate of inhibitor\n",
        "gu = -1     # degradation rate of activator\n",
        "gv = -2     # degradation rate of activator\n",
        "\n",
        "# Discretize time and space\n",
        "size = 25    # size of the 2D grid\n",
        "dx = 2./size  # space step\n",
        "T = 9.0       # total time\n",
        "dt = 0.001    # time step\n",
        "n = int(T/dt) # number of iterations \n",
        "\n",
        "# Initialize variables\n",
        "U = np.random.rand(size,size)\n",
        "V = np.random.rand(size,size)\n",
        "# U = np.ones(size)\n",
        "# V = np.zeros(size)\n",
        "#print(U)\n",
        "#print(V)"
      ],
      "execution_count": 0,
      "outputs": []
    },
    {
      "metadata": {
        "id": "Sj05P7m6uFjc",
        "colab_type": "code",
        "colab": {
          "base_uri": "https://localhost:8080/",
          "height": 85
        },
        "outputId": "73b25db3-c3dc-4b6a-f9b5-8bfa91540308"
      },
      "cell_type": "code",
      "source": [
        "# Test parameter set for Turing instability conditions\n",
        "p1 = fu + gv\n",
        "p2 = fu*gv - fv*gu\n",
        "p3 = Dv*fu + Du*gv\n",
        "p4 = (Dv*fu + Du*gv)**2 - 4*Du*Dv*(fu*gv-fv*gu)\n",
        "print(p1)\n",
        "print(p2)\n",
        "print(p3)\n",
        "print(p4)"
      ],
      "execution_count": 133,
      "outputs": [
        {
          "output_type": "stream",
          "text": [
            "-1\n",
            "1\n",
            "0.0048000000000000004\n",
            "2.1040000000000002e-05\n"
          ],
          "name": "stdout"
        }
      ]
    },
    {
      "metadata": {
        "id": "Hoo-Zno8mVIb",
        "colab_type": "code",
        "colab": {}
      },
      "cell_type": "code",
      "source": [
        "# Define discrete Laplace operator, using five-point stencil finite difference method\n",
        "def laplacian(Z):\n",
        "    Ztop = Z[0:-2, 1:-1]\n",
        "    Zleft = Z[1:-1, 0:-2]\n",
        "    Zbottom = Z[2:, 1:-1]\n",
        "    Zright = Z[1:-1, 2:]\n",
        "    Zcenter = Z[1:-1, 1:-1]\n",
        "    return (Ztop + Zleft + Zbottom + Zright - 4 * Zcenter) / dx**2\n",
        "  \n",
        "# Define function to display pattern\n",
        "def show_patterns(U, umin, umax, ax=None):\n",
        "    ax.imshow(U, cmap=plt.cm.viridis,\n",
        "              #norm=col.Normalize(umin, umax),\n",
        "              interpolation='bilinear',\n",
        "              extent=[-1, 1, -1, 1])\n",
        "    ax.set_axis_off()"
      ],
      "execution_count": 0,
      "outputs": []
    },
    {
      "metadata": {
        "id": "dl77AuazvcLD",
        "colab_type": "code",
        "colab": {}
      },
      "cell_type": "code",
      "source": [
        "# Define master function\n",
        "def turing(Du, Dv, fu, fv, gu, gv):\n",
        "\n",
        "    fig, axes = plt.subplots(3, 3, figsize=(8, 8))\n",
        "    step_plot = n // 9\n",
        "    \n",
        "  # Create variable to store data for plots\n",
        "  P = np.zeros(size,9)\n",
        "\n",
        "    # Simulate the PDE with the finite difference method.\n",
        "    for i in range(n):\n",
        "        # We compute the Laplacian of u and v.\n",
        "        deltaU = laplacian(U)\n",
        "        deltaV = laplacian(V)\n",
        "        # We take the values of u and v inside the grid.\n",
        "        Uc = U[1:-1, 1:-1]\n",
        "        Vc = V[1:-1, 1:-1]\n",
        "        # We update the variables.\n",
        "        U[1:-1, 1:-1], V[1:-1, 1:-1] = \\\n",
        "            Uc + dt * (Du * deltaU + fu*Uc + fv*Vc),\\\n",
        "            Vc + dt * (Dv * deltaV + gu*Uc + gv*Vc) \n",
        "        # Neumann conditions: derivatives at the edges are null.\n",
        "        for Z in (U, V):\n",
        "            Z[0, :] = Z[1, :]\n",
        "            Z[-1, :] = Z[-2, :]\n",
        "            Z[:, 0] = Z[:, 1]\n",
        "            Z[:, -1] = Z[:, -2]\n",
        "\n",
        "        # Store state of the system for subplots\n",
        "        if i % step_plot == 0 and i < T * step_plot:\n",
        "            P[:][:][i] = U\n",
        "\n",
        "    umin = amin(U)\n",
        "    umax = amax(U)\n",
        "    \n",
        "    # Plot system at different times\n",
        "    for i in range(n):\n",
        "      ax = axes.flat[i // step_plot]\n",
        "      show_patterns(U, umin, umax, ax=ax)\n",
        "      ax.set_title(f'$t={i * dt:.2f}$')\n",
        "\n",
        "    # Plot final pattern\n",
        "    fig, ax = plt.subplots(1, 1, figsize=(8, 8))\n",
        "    show_patterns(U, umin, umax, ax=ax)   \n",
        "    ax.set_title(f'$t=T$')\n"
      ],
      "execution_count": 0,
      "outputs": []
    },
    {
      "metadata": {
        "id": "ApfXChOCxFqV",
        "colab_type": "code",
        "colab": {
          "base_uri": "https://localhost:8080/",
          "height": 753
        },
        "outputId": "0fecff2e-a627-4731-ee1f-04260d5ef6bb"
      },
      "cell_type": "code",
      "source": [
        "turing(Du, Dv, fu, fv, gu, gv)"
      ],
      "execution_count": 140,
      "outputs": [
        {
          "output_type": "error",
          "ename": "TypeError",
          "evalue": "ignored",
          "traceback": [
            "\u001b[0;31m---------------------------------------------------------------------------\u001b[0m",
            "\u001b[0;31mTypeError\u001b[0m                                 Traceback (most recent call last)",
            "\u001b[0;32m<ipython-input-140-470273bb820f>\u001b[0m in \u001b[0;36m<module>\u001b[0;34m()\u001b[0m\n\u001b[0;32m----> 1\u001b[0;31m \u001b[0mturing\u001b[0m\u001b[0;34m(\u001b[0m\u001b[0mDu\u001b[0m\u001b[0;34m,\u001b[0m \u001b[0mDv\u001b[0m\u001b[0;34m,\u001b[0m \u001b[0mfu\u001b[0m\u001b[0;34m,\u001b[0m \u001b[0mfv\u001b[0m\u001b[0;34m,\u001b[0m \u001b[0mgu\u001b[0m\u001b[0;34m,\u001b[0m \u001b[0mgv\u001b[0m\u001b[0;34m)\u001b[0m\u001b[0;34m\u001b[0m\u001b[0m\n\u001b[0m",
            "\u001b[0;32m<ipython-input-139-e2d6fd453b9a>\u001b[0m in \u001b[0;36mturing\u001b[0;34m(Du, Dv, fu, fv, gu, gv)\u001b[0m\n\u001b[1;32m      5\u001b[0m \u001b[0;34m\u001b[0m\u001b[0m\n\u001b[1;32m      6\u001b[0m     \u001b[0;31m# Create variable to store data for plots\u001b[0m\u001b[0;34m\u001b[0m\u001b[0;34m\u001b[0m\u001b[0m\n\u001b[0;32m----> 7\u001b[0;31m     \u001b[0mP\u001b[0m \u001b[0;34m=\u001b[0m \u001b[0mnp\u001b[0m\u001b[0;34m.\u001b[0m\u001b[0mzeros\u001b[0m\u001b[0;34m(\u001b[0m\u001b[0msize\u001b[0m\u001b[0;34m,\u001b[0m\u001b[0;36m9\u001b[0m\u001b[0;34m)\u001b[0m\u001b[0;34m\u001b[0m\u001b[0m\n\u001b[0m\u001b[1;32m      8\u001b[0m \u001b[0;34m\u001b[0m\u001b[0m\n\u001b[1;32m      9\u001b[0m     \u001b[0;31m# Simulate the PDE with the finite difference method.\u001b[0m\u001b[0;34m\u001b[0m\u001b[0;34m\u001b[0m\u001b[0m\n",
            "\u001b[0;31mTypeError\u001b[0m: data type not understood"
          ]
        },
        {
          "output_type": "display_data",
          "data": {
            "image/png": "[encoded data removed]",
            "text/plain": [
              "<matplotlib.figure.Figure at 0x7fd469129eb8>"
            ]
          },
          "metadata": {
            "tags": []
          }
        }
      ]
    },
    {
      "metadata": {
        "id": "4ar5CkRHxhWF",
        "colab_type": "code",
        "colab": {}
      },
      "cell_type": "code",
      "source": [
        ""
      ],
      "execution_count": 0,
      "outputs": []
    }
  ]
}